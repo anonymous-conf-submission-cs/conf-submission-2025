{
 "cells": [
  {
   "cell_type": "code",
   "execution_count": 55,
   "metadata": {},
   "outputs": [
    {
     "data": {
      "text/plain": [
       "True"
      ]
     },
     "execution_count": 55,
     "metadata": {},
     "output_type": "execute_result"
    }
   ],
   "source": [
    "from sklearn.metrics import accuracy_score\n",
    "from sklearn.metrics import confusion_matrix\n",
    "from collections import Counter\n",
    "from dotenv import load_dotenv\n",
    "import os\n",
    "import json\n",
    "from chromadb.config import Settings\n",
    "from chromadb.utils import embedding_functions\n",
    "import chromadb\n",
    "import openai\n",
    "from tenacity import (\n",
    "    retry,\n",
    "    stop_after_attempt,\n",
    "    wait_random_exponential,\n",
    ")  # for exponential backoff\n",
    "load_dotenv()"
   ]
  },
  {
   "cell_type": "code",
   "execution_count": 56,
   "metadata": {},
   "outputs": [],
   "source": [
    "def parse_detection_result(detection_result):\n",
    "\n",
    "    detection_result = detection_result.lower()\n",
    "    result=\"\"\n",
    "    if \"yes\" in detection_result:\n",
    "        result = \"yes\"\n",
    "    elif \"no\" in detection_result:\n",
    "        result = \"no\"\n",
    "    else: \n",
    "        print(\"error: \", detection_result)\n",
    "\n",
    "    return result"
   ]
  },
  {
   "cell_type": "code",
   "execution_count": 57,
   "metadata": {},
   "outputs": [],
   "source": [
    "\n",
    "#input_path = \"/home/akazad/test_tool_perfapim/src/result/cpp_detection_result_stratified_ctx_t3_f3.json\" for llm only\n",
    "input_path = \"result/cpp_detection_result_stratified_ctx_t3_f5.json\" # for llm + embedding\n",
    "output_path = \"result/cpp_detection_result_yes_stratified_ctx_t3_f5.json\""
   ]
  },
  {
   "cell_type": "code",
   "execution_count": 58,
   "metadata": {},
   "outputs": [],
   "source": [
    "# read the file\n",
    "with open(input_path, encoding=\"utf-8\") as f:\n",
    "    data = f.readlines()\n",
    "    data = [line for line in data if line != \"\\n\"]\n",
    "    data = [json.loads(line) for line in data]"
   ]
  },
  {
   "cell_type": "code",
   "execution_count": 59,
   "metadata": {},
   "outputs": [
    {
     "name": "stdout",
     "output_type": "stream",
     "text": [
      "data length:  67\n"
     ]
    }
   ],
   "source": [
    "print(\"data length: \", len(data))"
   ]
  },
  {
   "cell_type": "code",
   "execution_count": 60,
   "metadata": {},
   "outputs": [
    {
     "name": "stdout",
     "output_type": "stream",
     "text": [
      "<class 'str'>\n",
      "=====================================\n",
      "Yes\n",
      "<class 'str'>\n",
      "=====================================\n",
      "Yes\n",
      "<class 'str'>\n",
      "=====================================\n",
      "Yes\n",
      "<class 'str'>\n",
      "=====================================\n",
      "No\n",
      "<class 'str'>\n",
      "=====================================\n",
      "Yes\n",
      "<class 'str'>\n",
      "=====================================\n",
      "No\n",
      "<class 'str'>\n",
      "=====================================\n",
      "Yes\n",
      "<class 'str'>\n",
      "=====================================\n",
      "No\n",
      "<class 'str'>\n",
      "=====================================\n",
      "No\n",
      "<class 'str'>\n",
      "=====================================\n",
      "Yes\n",
      "<class 'str'>\n",
      "=====================================\n",
      "Yes\n",
      "<class 'str'>\n",
      "=====================================\n",
      "Yes\n",
      "<class 'str'>\n",
      "=====================================\n",
      "No\n",
      "<class 'str'>\n",
      "=====================================\n",
      "Yes\n",
      "<class 'str'>\n",
      "=====================================\n",
      "Yes\n",
      "<class 'str'>\n",
      "=====================================\n",
      "No\n",
      "<class 'str'>\n",
      "=====================================\n",
      "No\n",
      "<class 'str'>\n",
      "=====================================\n",
      "No\n",
      "<class 'str'>\n",
      "=====================================\n",
      "Yes\n",
      "<class 'str'>\n",
      "=====================================\n",
      "No\n",
      "<class 'str'>\n",
      "=====================================\n",
      "No\n",
      "<class 'str'>\n",
      "=====================================\n",
      "No\n",
      "<class 'str'>\n",
      "=====================================\n",
      "Yes\n",
      "<class 'str'>\n",
      "=====================================\n",
      "Yes\n",
      "<class 'str'>\n",
      "=====================================\n",
      "No\n",
      "<class 'str'>\n",
      "=====================================\n",
      "Yes\n",
      "<class 'str'>\n",
      "=====================================\n",
      "No\n",
      "<class 'str'>\n",
      "=====================================\n",
      "No\n",
      "<class 'str'>\n",
      "=====================================\n",
      "No\n",
      "<class 'str'>\n",
      "=====================================\n",
      "Yes\n",
      "<class 'str'>\n",
      "=====================================\n",
      "No\n",
      "<class 'str'>\n",
      "=====================================\n",
      "No\n",
      "<class 'str'>\n",
      "=====================================\n",
      "No\n",
      "<class 'str'>\n",
      "=====================================\n",
      "No\n",
      "<class 'str'>\n",
      "=====================================\n",
      "No\n",
      "<class 'str'>\n",
      "=====================================\n",
      "Yes\n",
      "<class 'str'>\n",
      "=====================================\n",
      "Yes\n",
      "<class 'str'>\n",
      "=====================================\n",
      "No\n",
      "<class 'str'>\n",
      "=====================================\n",
      "No\n",
      "<class 'str'>\n",
      "=====================================\n",
      "No\n",
      "<class 'str'>\n",
      "=====================================\n",
      "Yes\n",
      "<class 'str'>\n",
      "=====================================\n",
      "No\n",
      "<class 'str'>\n",
      "=====================================\n",
      "No\n",
      "<class 'str'>\n",
      "=====================================\n",
      "No\n",
      "<class 'str'>\n",
      "=====================================\n",
      "Yes\n",
      "<class 'str'>\n",
      "=====================================\n",
      "Yes\n",
      "<class 'str'>\n",
      "=====================================\n",
      "No\n",
      "<class 'str'>\n",
      "=====================================\n",
      "No\n",
      "<class 'str'>\n",
      "=====================================\n",
      "Yes\n",
      "<class 'str'>\n",
      "=====================================\n",
      "Yes\n",
      "<class 'str'>\n",
      "=====================================\n",
      "Yes\n",
      "<class 'str'>\n",
      "=====================================\n",
      "No\n",
      "<class 'str'>\n",
      "=====================================\n",
      "Yes\n",
      "<class 'str'>\n",
      "=====================================\n",
      "No\n",
      "<class 'str'>\n",
      "=====================================\n",
      "No\n",
      "<class 'str'>\n",
      "=====================================\n",
      "No\n",
      "<class 'str'>\n",
      "=====================================\n",
      "No\n",
      "<class 'str'>\n",
      "=====================================\n",
      "No\n",
      "<class 'str'>\n",
      "=====================================\n",
      "No\n",
      "<class 'str'>\n",
      "=====================================\n",
      "No\n",
      "<class 'str'>\n",
      "=====================================\n",
      "No\n",
      "<class 'str'>\n",
      "=====================================\n",
      "Yes\n",
      "<class 'str'>\n",
      "=====================================\n",
      "Yes\n",
      "<class 'str'>\n",
      "=====================================\n",
      "No\n",
      "<class 'str'>\n",
      "=====================================\n",
      "Yes\n",
      "<class 'str'>\n",
      "=====================================\n",
      "Yes\n",
      "<class 'str'>\n",
      "=====================================\n",
      "No\n"
     ]
    }
   ],
   "source": [
    "\n",
    "res_list = []\n",
    "for idx, line in enumerate(data):\n",
    "    result = line[\"detection_result\"]\n",
    "    print(type(result))\n",
    "    print(\"=====================================\")\n",
    "    print(result)   \n",
    "    result = parse_detection_result(result) \n",
    "    data[idx][\"result\"] = result\n",
    "    data[idx][\"label\"] = \"\"\n",
    "    if type(line[\"code_before\"])==str:\n",
    "        line[\"code_before\"] = line[\"code_before\"].split(\"\\n\") # convert string to list\n",
    "    #line[\"example\"] = line[\"example\"].split(\"\\n\")\n",
    "    line[\"detection_result\"] = line[\"detection_result\"].split(\"\\n\")\n",
    "    res_list.append(line)"
   ]
  },
  {
   "cell_type": "code",
   "execution_count": 61,
   "metadata": {},
   "outputs": [
    {
     "data": {
      "text/plain": [
       "67"
      ]
     },
     "execution_count": 61,
     "metadata": {},
     "output_type": "execute_result"
    }
   ],
   "source": [
    "len(res_list)"
   ]
  },
  {
   "cell_type": "code",
   "execution_count": 62,
   "metadata": {},
   "outputs": [
    {
     "name": "stdout",
     "output_type": "stream",
     "text": [
      "Counter({'no': 39, 'yes': 28})\n"
     ]
    }
   ],
   "source": [
    "result_list = [x[\"result\"] for x in res_list ]\n",
    "counter = Counter(result_list)\n",
    "print(counter)\n",
    "yes_list = [x for x in res_list if x[\"result\"] == \"yes\"]"
   ]
  },
  {
   "cell_type": "code",
   "execution_count": 63,
   "metadata": {},
   "outputs": [
    {
     "data": {
      "text/plain": [
       "28"
      ]
     },
     "execution_count": 63,
     "metadata": {},
     "output_type": "execute_result"
    }
   ],
   "source": [
    "len(yes_list)"
   ]
  },
  {
   "cell_type": "code",
   "execution_count": 64,
   "metadata": {},
   "outputs": [],
   "source": [
    "with open(output_path, \"w\", encoding=\"utf-8\") as f:\n",
    "    json.dump(yes_list, f, indent=4)"
   ]
  },
  {
   "cell_type": "code",
   "execution_count": 50,
   "metadata": {},
   "outputs": [],
   "source": [
    "no_list = [x for x in res_list if x[\"result\"] == \"no\"]"
   ]
  },
  {
   "cell_type": "code",
   "execution_count": 65,
   "metadata": {},
   "outputs": [
    {
     "data": {
      "text/plain": [
       "30"
      ]
     },
     "execution_count": 65,
     "metadata": {},
     "output_type": "execute_result"
    }
   ],
   "source": [
    "len(no_list)"
   ]
  },
  {
   "cell_type": "code",
   "execution_count": 66,
   "metadata": {},
   "outputs": [],
   "source": [
    "path = \"result/cpp_detection_result_no_stratified_ctx_t3_f5.json\""
   ]
  },
  {
   "cell_type": "code",
   "execution_count": 67,
   "metadata": {},
   "outputs": [],
   "source": [
    "with open(path, \"w\", encoding=\"utf-8\") as f:\n",
    "    json.dump(no_list, f, indent=4)"
   ]
  },
  {
   "cell_type": "code",
   "execution_count": null,
   "metadata": {},
   "outputs": [],
   "source": []
  }
 ],
 "metadata": {
  "kernelspec": {
   "display_name": "Python (mlenv)",
   "language": "python",
   "name": "mlenv"
  },
  "language_info": {
   "codemirror_mode": {
    "name": "ipython",
    "version": 3
   },
   "file_extension": ".py",
   "mimetype": "text/x-python",
   "name": "python",
   "nbconvert_exporter": "python",
   "pygments_lexer": "ipython3",
   "version": "3.8.16"
  }
 },
 "nbformat": 4,
 "nbformat_minor": 2
}
